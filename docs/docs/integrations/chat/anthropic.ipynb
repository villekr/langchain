{
 "cells": [
  {
   "cell_type": "raw",
   "id": "a016701c",
   "metadata": {},
   "source": [
    "---\n",
    "sidebar_label: Anthropic\n",
    "---"
   ]
  },
  {
   "cell_type": "markdown",
   "id": "bf733a38-db84-4363-89e2-de6735c37230",
   "metadata": {},
   "source": [
    "# ChatAnthropic\n",
    "\n",
    "This notebook covers how to get started with Anthropic chat models.\n",
    "\n",
    "## Setup\n",
    "\n",
    "For setup instructions, please see the Installation and Environment Setup sections of the [Anthropic Platform page](/docs/integrations/platforms/anthropic.mdx)."
   ]
  },
  {
   "cell_type": "code",
   "execution_count": null,
   "id": "91be2e12",
   "metadata": {},
   "outputs": [],
   "source": [
    "%pip install -qU langchain-anthropic"
   ]
  },
  {
   "cell_type": "markdown",
   "id": "584ed5ec",
   "metadata": {},
   "source": [
    "## Environment Setup\n",
    "\n",
    "We'll need to get a [Anthropic](https://console.anthropic.com/settings/keys) and set the `ANTHROPIC_API_KEY` environment variable:"
   ]
  },
  {
   "cell_type": "code",
   "execution_count": 2,
   "id": "01578ae3",
   "metadata": {},
   "outputs": [],
   "source": [
    "import os\n",
    "from getpass import getpass\n",
    "\n",
    "os.environ[\"ANTHROPIC_API_KEY\"] = getpass()"
   ]
  },
  {
   "cell_type": "markdown",
   "id": "d1f9df276476f0bc",
   "metadata": {
    "collapsed": false
   },
   "source": [
    "The code provided assumes that your ANTHROPIC_API_KEY is set in your environment variables. If you would like to manually specify your API key and also choose a different model, you can use the following code:\n",
    "```python\n",
    "chat = ChatAnthropic(temperature=0, anthropic_api_key=\"YOUR_API_KEY\", model_name=\"claude-3-opus-20240229\")\n",
    "\n",
    "```\n",
    "\n",
    "In these demos, we will use the Claude 3 Opus model, and you can also use the launch version of the Sonnet model with `claude-3-sonnet-20240229`.\n",
    "\n",
    "You can check the model comparison doc [here](https://docs.anthropic.com/claude/docs/models-overview#model-comparison)."
   ]
  },
  {
   "cell_type": "code",
   "execution_count": 3,
   "id": "8199ef8f-eb8b-4253-9ea0-6c24a013ca4c",
   "metadata": {
    "ExecuteTime": {
     "end_time": "2024-01-19T11:25:07.274418Z",
     "start_time": "2024-01-19T11:25:05.898031Z"
    },
    "tags": []
   },
   "outputs": [
    {
     "data": {
      "text/plain": [
       "AIMessage(content='저는 파이썬을 사랑합니다.\\n\\nTranslation:\\nI love Python.')"
      ]
     },
     "execution_count": 3,
     "metadata": {},
     "output_type": "execute_result"
    }
   ],
   "source": [
    "from langchain_anthropic import ChatAnthropic\n",
    "from langchain_core.prompts import ChatPromptTemplate\n",
    "\n",
    "chat = ChatAnthropic(temperature=0, model_name=\"claude-3-opus-20240229\")\n",
    "\n",
    "system = (\n",
    "    \"You are a helpful assistant that translates {input_language} to {output_language}.\"\n",
    ")\n",
    "human = \"{text}\"\n",
    "prompt = ChatPromptTemplate.from_messages([(\"system\", system), (\"human\", human)])\n",
    "\n",
    "chain = prompt | chat\n",
    "chain.invoke(\n",
    "    {\n",
    "        \"input_language\": \"English\",\n",
    "        \"output_language\": \"Korean\",\n",
    "        \"text\": \"I love Python\",\n",
    "    }\n",
    ")"
   ]
  },
  {
   "cell_type": "markdown",
   "id": "c361ab1e-8c0c-4206-9e3c-9d1424a12b9c",
   "metadata": {},
   "source": [
    "## `ChatAnthropic` also supports async and streaming functionality:"
   ]
  },
  {
   "cell_type": "code",
   "execution_count": 5,
   "id": "c5fac0e9-05a4-4fc1-a3b3-e5bbb24b971b",
   "metadata": {
    "ExecuteTime": {
     "end_time": "2024-01-19T11:25:10.448733Z",
     "start_time": "2024-01-19T11:25:08.866277Z"
    },
    "tags": []
   },
   "outputs": [
    {
     "data": {
      "text/plain": [
       "AIMessage(content='Sure, here\\'s a joke about a bear:\\n\\nA bear walks into a bar and says to the bartender, \"I\\'ll have a pint of beer and a.......... packet of peanuts.\"\\n\\nThe bartender asks, \"Why the big pause?\"\\n\\nThe bear replies, \"I don\\'t know, I\\'ve always had them!\"')"
      ]
     },
     "execution_count": 5,
     "metadata": {},
     "output_type": "execute_result"
    }
   ],
   "source": [
    "chat = ChatAnthropic(temperature=0, model_name=\"claude-3-opus-20240229\")\n",
    "prompt = ChatPromptTemplate.from_messages([(\"human\", \"Tell me a joke about {topic}\")])\n",
    "chain = prompt | chat\n",
    "await chain.ainvoke({\"topic\": \"bear\"})"
   ]
  },
  {
   "cell_type": "code",
   "execution_count": 6,
   "id": "025be980-e50d-4a68-93dc-c9c7b500ce34",
   "metadata": {
    "ExecuteTime": {
     "end_time": "2024-01-19T11:25:24.438696Z",
     "start_time": "2024-01-19T11:25:14.687480Z"
    },
    "tags": []
   },
   "outputs": [
    {
     "name": "stdout",
     "output_type": "stream",
     "text": [
      "Here is a list of famous tourist attractions in Japan:\n",
      "\n",
      "1. Tokyo Skytree (Tokyo)\n",
      "2. Senso-ji Temple (Tokyo)\n",
      "3. Meiji Shrine (Tokyo)\n",
      "4. Tokyo DisneySea (Urayasu, Chiba)\n",
      "5. Fushimi Inari Taisha (Kyoto)\n",
      "6. Kinkaku-ji (Golden Pavilion) (Kyoto)\n",
      "7. Kiyomizu-dera (Kyoto)\n",
      "8. Nijo Castle (Kyoto)\n",
      "9. Osaka Castle (Osaka)\n",
      "10. Dotonbori (Osaka)\n",
      "11. Hiroshima Peace Memorial Park (Hiroshima)\n",
      "12. Itsukushima Shrine (Miyajima Island, Hiroshima)\n",
      "13. Himeji Castle (Himeji)\n",
      "14. Todai-ji Temple (Nara)\n",
      "15. Nara Park (Nara)\n",
      "16. Mount Fuji (Shizuoka and Yamanashi Prefectures)\n",
      "17."
     ]
    }
   ],
   "source": [
    "chat = ChatAnthropic(temperature=0.3, model_name=\"claude-3-opus-20240229\")\n",
    "prompt = ChatPromptTemplate.from_messages(\n",
    "    [(\"human\", \"Give me a list of famous tourist attractions in Japan\")]\n",
    ")\n",
    "chain = prompt | chat\n",
    "for chunk in chain.stream({}):\n",
    "    print(chunk.content, end=\"\", flush=True)"
   ]
  },
  {
   "cell_type": "code",
   "execution_count": null,
   "id": "b6bb2aa2",
   "metadata": {},
   "outputs": [],
   "source": []
  }
 ],
 "metadata": {
  "kernelspec": {
   "display_name": "Python 3 (ipykernel)",
   "language": "python",
   "name": "python3"
  },
  "language_info": {
   "codemirror_mode": {
    "name": "ipython",
    "version": 3
   },
   "file_extension": ".py",
   "mimetype": "text/x-python",
   "name": "python",
   "nbconvert_exporter": "python",
   "pygments_lexer": "ipython3",
   "version": "3.11.4"
  }
 },
 "nbformat": 4,
 "nbformat_minor": 5
}
